{
 "cells": [
  {
   "cell_type": "code",
   "execution_count": 1,
   "id": "cfcf7904-99cc-453a-a3b4-39743baecf6f",
   "metadata": {},
   "outputs": [],
   "source": [
    "import numpy as np"
   ]
  },
  {
   "cell_type": "code",
   "execution_count": 2,
   "id": "b9337ef1-3c96-49d3-b092-05afb61d8634",
   "metadata": {},
   "outputs": [],
   "source": [
    "# example dataset (movie classification)\n",
    "\n",
    "X_train = np.array([[0, 1, 1], \n",
    "                    [0, 0, 1],\n",
    "                    [0, 0, 0],\n",
    "                    [1, 1, 0]])\n",
    "                   \n",
    "Y_train = ['Y', 'N', 'Y', 'Y']\n",
    "                   \n",
    "X_test = np.array([[1, 1, 0]])"
   ]
  },
  {
   "cell_type": "code",
   "execution_count": 3,
   "id": "fa4c54f5-7d03-4f1d-b308-0b7f4d619911",
   "metadata": {},
   "outputs": [],
   "source": [
    "# a_priori probability\n",
    "\n",
    "def get_label_indices(labels):\n",
    "    \n",
    "    # group samples by labels, return indexes\n",
    "    # return dict {class: indexes}\n",
    "    \n",
    "    from collections import defaultdict\n",
    "    \n",
    "    label_indices = defaultdict(list)\n",
    "    \n",
    "    for index, label in enumerate(labels):\n",
    "        label_indices[label].append(index)\n",
    "        \n",
    "    return label_indices\n",
    "\n"
   ]
  },
  {
   "cell_type": "code",
   "execution_count": 4,
   "id": "1a4528d3-39f4-46e3-861d-2e7beb54b21b",
   "metadata": {},
   "outputs": [
    {
     "name": "stdout",
     "output_type": "stream",
     "text": [
      "Indices: \n",
      " defaultdict(<class 'list'>, {'Y': [0, 2, 3], 'N': [1]})\n"
     ]
    }
   ],
   "source": [
    "label_indices = get_label_indices(Y_train)\n",
    "print('Indices: \\n', label_indices)"
   ]
  },
  {
   "cell_type": "code",
   "execution_count": 5,
   "id": "a26de1cd-169a-4c9e-95dd-4993e877d038",
   "metadata": {},
   "outputs": [],
   "source": [
    "def get_prior(indices):\n",
    "    \n",
    "    # calculate a-priori probability based on test samples\n",
    "    # return dict {label: a priori}\n",
    "    \n",
    "    prior = {label: len(indices) for label, indices in label_indices.items()}\n",
    "    \n",
    "    total_count = sum(prior.values())\n",
    "    \n",
    "    for label in prior:\n",
    "        prior[label] /= total_count\n",
    "    \n",
    "    return prior   "
   ]
  },
  {
   "cell_type": "code",
   "execution_count": 6,
   "id": "9c3dbedd-7606-430f-a008-dca394ff8bbc",
   "metadata": {},
   "outputs": [
    {
     "name": "stdout",
     "output_type": "stream",
     "text": [
      "A priori:  {'Y': 0.75, 'N': 0.25}\n"
     ]
    }
   ],
   "source": [
    "prior = get_prior(label_indices)\n",
    "print('A priori: ', prior)"
   ]
  },
  {
   "cell_type": "code",
   "execution_count": 7,
   "id": "3cb82e79-8023-43d1-98a1-fff4ffb3e6a3",
   "metadata": {},
   "outputs": [],
   "source": [
    "# likelyhood (szansa) calculation\n",
    "\n",
    "def get_likelihood(features, label_indices, smoothing = 0):\n",
    "    \n",
    "    # return dict {class : conditional probability (likelihood)}\n",
    "    \n",
    "    likelihood = {}\n",
    "    \n",
    "    for label, indices in label_indices.items():\n",
    "        likelihood[label] = features[indices, :].sum(axis = 0) + smoothing\n",
    "        total_count = len(indices)\n",
    "        likelihood[label] = likelihood[label] / (total_count + 2 * smoothing)\n",
    "        \n",
    "    return likelihood"
   ]
  },
  {
   "cell_type": "code",
   "execution_count": 8,
   "id": "eba93d80-5ec4-4ded-971b-83cdf8402d8d",
   "metadata": {},
   "outputs": [
    {
     "name": "stdout",
     "output_type": "stream",
     "text": [
      "Likelihood:  {'Y': array([0.4, 0.6, 0.4]), 'N': array([0.33333333, 0.33333333, 0.66666667])}\n"
     ]
    }
   ],
   "source": [
    "smoothing = 1\n",
    "likelihood = get_likelihood(X_train, label_indices, smoothing)\n",
    "print('Likelihood: ', likelihood)"
   ]
  },
  {
   "cell_type": "code",
   "execution_count": 9,
   "id": "4b3b7074-a6bd-4ac4-ae9e-9c0d576fd6f6",
   "metadata": {},
   "outputs": [],
   "source": [
    "# a posteriori calculation\n",
    "\n",
    "def get_posterior(X, prior, likelihood):\n",
    "    \n",
    "    # X - training samplec\n",
    "    # prior - {label: a priori} dict\n",
    "    # return {label : a posteriori}\n",
    "    \n",
    "    posteriors = []\n",
    "    \n",
    "    for x in X:\n",
    "        \n",
    "        # a posteriori is proportional to (a priori * chance)\n",
    "        \n",
    "        posterior = prior.copy()\n",
    "        \n",
    "        for label, likelihood_label in likelihood.items():\n",
    "            for index, bool_value in enumerate(x):\n",
    "                posterior[label] *= likelihood_label[index] if bool_value else (1 - likelihood_label[index])\n",
    "                \n",
    "        # normalise, so everything sums to 1\n",
    "        sum_posterior = sum(posterior.values())\n",
    "        \n",
    "        for label in posterior:\n",
    "            if posterior[label] == float('inf'):\n",
    "                posterior[label] = 1.0\n",
    "            else:\n",
    "                posterior[label] /= sum_posterior\n",
    "        posteriors.append(posterior.copy())\n",
    "    return posteriors"
   ]
  },
  {
   "cell_type": "code",
   "execution_count": 10,
   "id": "1f2ccccd-0108-4744-bc64-ad66ab3d2d33",
   "metadata": {},
   "outputs": [
    {
     "name": "stdout",
     "output_type": "stream",
     "text": [
      "A posteriori: \n",
      " [{'Y': 0.9210360075805433, 'N': 0.07896399241945673}]\n"
     ]
    }
   ],
   "source": [
    "posterior = get_posterior(X_test, prior, likelihood)\n",
    "print('A posteriori: \\n', posterior)"
   ]
  },
  {
   "cell_type": "code",
   "execution_count": null,
   "id": "92182292-aeae-4b99-a6ab-db68bda314e0",
   "metadata": {},
   "outputs": [],
   "source": []
  }
 ],
 "metadata": {
  "kernelspec": {
   "display_name": "Python 3 (ipykernel)",
   "language": "python",
   "name": "python3"
  },
  "language_info": {
   "codemirror_mode": {
    "name": "ipython",
    "version": 3
   },
   "file_extension": ".py",
   "mimetype": "text/x-python",
   "name": "python",
   "nbconvert_exporter": "python",
   "pygments_lexer": "ipython3",
   "version": "3.9.16"
  }
 },
 "nbformat": 4,
 "nbformat_minor": 5
}
