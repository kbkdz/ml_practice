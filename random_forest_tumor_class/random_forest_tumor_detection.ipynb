{
 "cells": [
  {
   "cell_type": "code",
   "execution_count": 1,
   "id": "b1122965-97a4-4cdd-be9d-71b6ea3f47c8",
   "metadata": {},
   "outputs": [],
   "source": [
    "import os\n",
    "import shutil\n",
    "import numpy as np\n",
    "from sklearn.ensemble import RandomForestClassifier\n",
    "from sklearn.metrics import accuracy_score\n",
    "from skimage.io import imread_collection\n",
    "from sklearn.model_selection import GridSearchCV\n",
    "from skimage.io import imread\n",
    "from skimage.transform import resize\n",
    "import warnings"
   ]
  },
  {
   "cell_type": "code",
   "execution_count": 2,
   "id": "e72a5789-563d-47d6-b899-c16276e9401f",
   "metadata": {},
   "outputs": [],
   "source": [
    "# disable Future Warnings\n",
    "\n",
    "warnings.filterwarnings(\"ignore\", category=FutureWarning)"
   ]
  },
  {
   "cell_type": "code",
   "execution_count": 3,
   "id": "c4c0991d-9c25-4493-ba05-4e85f415fc40",
   "metadata": {},
   "outputs": [],
   "source": [
    "# give the images uniform names\n",
    "\n",
    "def rename_files(folder):\n",
    "    filenames = os.listdir(folder)\n",
    "    for i, filename in enumerate(filenames):\n",
    "        # Extract the file extension\n",
    "        ext = os.path.splitext(filename)[1]\n",
    "        # Generate the new filename with three-digit number\n",
    "        new_filename = str(i+1).zfill(3) + ext\n",
    "        # Construct the full path to the file\n",
    "        old_path = os.path.join(folder, filename)\n",
    "        new_path = os.path.join(folder, new_filename)\n",
    "        # Rename the file\n",
    "        os.rename(old_path, new_path)\n",
    "\n",
    "# Rename files in the 'no' folder\n",
    "rename_files('no')\n",
    "\n",
    "# Rename files in the 'yes' folder\n",
    "rename_files('yes')"
   ]
  },
  {
   "cell_type": "code",
   "execution_count": 4,
   "id": "2174b8e0-4a29-40b0-a309-eb060129cf65",
   "metadata": {},
   "outputs": [],
   "source": [
    "# divide dataset in tran/test subsets\n",
    "\n",
    "def create_train_test_sets(source_folder, train_folder, test_folder, train_proportion):\n",
    "    # Get the list of filenames in the source folder\n",
    "    filenames = os.listdir(source_folder)\n",
    "    # Calculate the number of files for training and testing\n",
    "    num_files = len(filenames)\n",
    "    num_train = int(train_proportion * num_files)\n",
    "    num_test = num_files - num_train\n",
    "    \n",
    "    # Shuffle the filenames\n",
    "    np.random.shuffle(filenames)\n",
    "    \n",
    "    # Create the 'train' and 'test' folders if they don't exist\n",
    "    os.makedirs(train_folder, exist_ok=True)\n",
    "    os.makedirs(test_folder, exist_ok=True)\n",
    "    \n",
    "    # Copy files to the 'train' folder\n",
    "    for filename in filenames[:num_train]:\n",
    "        src_path = os.path.join(source_folder, filename)\n",
    "        dst_path = os.path.join(train_folder, filename)\n",
    "        shutil.copyfile(src_path, dst_path)\n",
    "    \n",
    "    # Copy files to the 'test' folder\n",
    "    for filename in filenames[num_train:]:\n",
    "        src_path = os.path.join(source_folder, filename)\n",
    "        dst_path = os.path.join(test_folder, filename)\n",
    "        shutil.copyfile(src_path, dst_path)\n",
    "\n",
    "# Create 'train' and 'test' subsets for 'no_tumor' class\n",
    "create_train_test_sets('no', 'train/no', 'test/no', train_proportion=0.8)\n",
    "\n",
    "# Create 'train' and 'test' subsets for 'tumor' class\n",
    "create_train_test_sets('yes', 'train/yes', 'test/yes', train_proportion=0.8)"
   ]
  },
  {
   "cell_type": "code",
   "execution_count": 5,
   "id": "4b1a4de6-d0e2-4fce-b22a-5cc7699b2022",
   "metadata": {},
   "outputs": [
    {
     "name": "stderr",
     "output_type": "stream",
     "text": [
      "<__array_function__ internals>:180: VisibleDeprecationWarning: Creating an ndarray from ragged nested sequences (which is a list-or-tuple of lists-or-tuples-or ndarrays with different lengths or shapes) is deprecated. If you meant to do this, you must specify 'dtype=object' when creating the ndarray.\n",
      "<__array_function__ internals>:180: VisibleDeprecationWarning: Creating an ndarray from ragged nested sequences (which is a list-or-tuple of lists-or-tuples-or ndarrays with different lengths or shapes) is deprecated. If you meant to do this, you must specify 'dtype=object' when creating the ndarray.\n"
     ]
    },
    {
     "name": "stdout",
     "output_type": "stream",
     "text": [
      "Accuracy: 0.984251968503937\n"
     ]
    }
   ],
   "source": [
    "# Load the 'no_tumor' images for training\n",
    "train_no = imread_collection('train/no/*.jpg')\n",
    "train_no_labels = np.zeros(len(train_no))  # Class label 0 for 'no_tumor'\n",
    "\n",
    "# Load the 'tumor' images for training\n",
    "train_yes = imread_collection('train/yes/*.jpg')\n",
    "train_yes_labels = np.ones(len(train_yes))  # Class label 1 for 'tumor'\n",
    "\n",
    "# Concatenate the training data and labels\n",
    "train_data = np.concatenate((train_no, train_yes), axis=0)\n",
    "train_labels = np.concatenate((train_no_labels, train_yes_labels), axis=0)\n",
    "\n",
    "# Flatten the image data into a 1D array and resize images if necessary\n",
    "reshaped_train_data = []\n",
    "for image in train_data:\n",
    "    if image.shape != (224, 224):  # If image shape is not (224, 224), resize it\n",
    "        image = np.resize(image, (224, 224))\n",
    "    reshaped_train_data.append(image.flatten())\n",
    "train_data = np.array(reshaped_train_data)\n",
    "\n",
    "# Train the Random Forest classifier\n",
    "clf = RandomForestClassifier(max_depth = None, max_features = 'sqrt', min_samples_leaf = 1, min_samples_split = 5, n_estimators = 100, random_state = 42)\n",
    "clf.fit(train_data, train_labels)\n",
    "\n",
    "# Load the 'no_tumor' images for testing\n",
    "test_no = imread_collection('test/no/*.jpg')\n",
    "test_no_labels = np.zeros(len(test_no))  # Class label 0 for 'no_tumor'\n",
    "\n",
    "# Load the 'tumor' images for testing\n",
    "test_yes = imread_collection('test/yes/*.jpg')\n",
    "test_yes_labels = np.ones(len(test_yes))  # Class label 1 for 'tumor'\n",
    "\n",
    "# Concatenate the testing data and labels\n",
    "test_data = np.concatenate((test_no, test_yes), axis=0)\n",
    "test_labels = np.concatenate((test_no_labels, test_yes_labels), axis=0)\n",
    "\n",
    "# Flatten the image data into a 1D array and resize images if necessary\n",
    "reshaped_test_data = []\n",
    "for image in test_data:\n",
    "    if image.shape != (224, 224):  # If image shape is not (224, 224), resize it\n",
    "        image = np.resize(image, (224, 224))\n",
    "    reshaped_test_data.append(image.flatten())\n",
    "test_data = np.array(reshaped_test_data)\n",
    "\n",
    "# Predict using the trained model\n",
    "predictions = clf.predict(test_data)\n",
    "\n",
    "# Calculate accuracy\n",
    "accuracy = accuracy_score(test_labels, predictions)\n",
    "print(\"Accuracy:\", accuracy)"
   ]
  },
  {
   "cell_type": "markdown",
   "id": "967597b6-3bd3-49ad-91b7-3d0c298d414f",
   "metadata": {
    "tags": []
   },
   "source": [
    "# Hyperparameter tuning (takes a long time)"
   ]
  },
  {
   "cell_type": "code",
   "execution_count": 6,
   "id": "4fd84463-1332-4bb1-b95b-d94babf5f55a",
   "metadata": {},
   "outputs": [],
   "source": [
    "# # Define the hyperparameter grid\n",
    "# param_grid = {\n",
    "#     'n_estimators': [100, 200, 300],\n",
    "#     'max_depth': [None, 5, 10],\n",
    "#     'min_samples_split': [2, 5, 10],\n",
    "#     'min_samples_leaf': [1, 2, 4],\n",
    "#     'max_features': ['auto', 'sqrt', 'log2']\n",
    "# }\n",
    "\n",
    "# # Create the grid search object\n",
    "# grid_search = GridSearchCV(estimator=RandomForestClassifier(), param_grid=param_grid, cv=5)\n",
    "\n",
    "# # Fit the grid search to the training data\n",
    "# grid_search.fit(train_data, train_labels)\n",
    "\n",
    "# # Get the best hyperparameters found\n",
    "# best_params = grid_search.best_params_\n",
    "# print(\"Best Hyperparameters:\", best_params)"
   ]
  },
  {
   "cell_type": "code",
   "execution_count": 11,
   "id": "cf950e0b-f8be-416d-9b89-16f97953bdb0",
   "metadata": {},
   "outputs": [
    {
     "name": "stdout",
     "output_type": "stream",
     "text": [
      "Image: 006.jpg\n",
      "Prediction: no_tumor\n",
      "Image: 078.jpg\n",
      "Prediction: tumor\n"
     ]
    }
   ],
   "source": [
    "# check selected image\n",
    "\n",
    "# Function to manually check an image\n",
    "def check_image(image_path):\n",
    "    # Load and preprocess the image\n",
    "    image = imread(image_path)\n",
    "    if image.shape != (224, 224):\n",
    "        image = np.resize(image, (224, 224))\n",
    "    flattened_image = image.flatten()\n",
    "\n",
    "    # Make a prediction using the trained model\n",
    "    prediction = clf.predict([flattened_image])\n",
    "\n",
    "    # Map the prediction to the corresponding class label\n",
    "    if prediction == 0:\n",
    "        class_label = 'no_tumor'\n",
    "    else:\n",
    "        class_label = 'tumor'\n",
    "\n",
    "    # Display the result\n",
    "    print('Image:', image_path)\n",
    "    print('Prediction:', class_label)\n",
    "\n",
    "# Provide the image path for manual checking\n",
    "image_path = '006.jpg'\n",
    "check_image(image_path)\n",
    "\n",
    "image_path = '078.jpg'\n",
    "check_image(image_path)"
   ]
  },
  {
   "cell_type": "code",
   "execution_count": null,
   "id": "7cb06d96-4727-400b-91b0-7305fa4f9d77",
   "metadata": {},
   "outputs": [],
   "source": []
  }
 ],
 "metadata": {
  "kernelspec": {
   "display_name": "Python 3 (ipykernel)",
   "language": "python",
   "name": "python3"
  },
  "language_info": {
   "codemirror_mode": {
    "name": "ipython",
    "version": 3
   },
   "file_extension": ".py",
   "mimetype": "text/x-python",
   "name": "python",
   "nbconvert_exporter": "python",
   "pygments_lexer": "ipython3",
   "version": "3.9.16"
  }
 },
 "nbformat": 4,
 "nbformat_minor": 5
}
